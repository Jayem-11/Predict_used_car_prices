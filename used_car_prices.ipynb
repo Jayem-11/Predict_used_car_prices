{
 "cells": [
  {
   "cell_type": "markdown",
   "id": "e9c5ea0f",
   "metadata": {},
   "source": [
    "#  PROBLEM STATEMENT\n"
   ]
  },
  {
   "cell_type": "markdown",
   "id": "dac8df04",
   "metadata": {},
   "source": [
    "## 1.Business Understanding"
   ]
  },
  {
   "cell_type": "markdown",
   "id": "b0163639",
   "metadata": {},
   "source": [
    "The used car dataset is obtained from [Truecar](https://www.truecar.com/used-cars-for-sale/) which is a leading automotive digital marketplace that seeks to make car buying and selling easy, transparent and efficient.\n",
    "\n",
    "From discovery to delivery, consumers can use TrueCar to explore new and used vehicles from an expansive, cross-brand selection of inventory from our vast network of Certified Dealers.\n",
    "\n",
    "Founded in 2005, TrueCar has built a trusted brand and a strong reputation for providing consumers with useful tools, research, market context and pricing transparency as they embark on their car-buying journey. The Company is bringing more of the purchasing process online by allowing consumers to find a new or used vehicle that is right for them, secure financing, sell or trade-in their current vehicle and complete their purchase with a reputable dealer all from the comfort of their home."
   ]
  },
  {
   "cell_type": "markdown",
   "id": "a0327fc0",
   "metadata": {},
   "source": [
    "### Objective"
   ]
  },
  {
   "cell_type": "markdown",
   "id": "d860a225",
   "metadata": {},
   "source": [
    "To create a model that predicts prices of used cars in New York and Carlifonia"
   ]
  },
  {
   "cell_type": "markdown",
   "id": "dd28b06b",
   "metadata": {},
   "source": [
    "### Import libraries\n"
   ]
  },
  {
   "cell_type": "code",
   "execution_count": 969,
   "id": "efa32648",
   "metadata": {},
   "outputs": [],
   "source": [
    "import pandas as pd # for data manipulation,data processing, CSV file I/O (e.g. pd.read_csv)\n",
    "import pandas.io.sql as sqlio # allows manipulation of a Pandas Dataframe using SQL\n",
    "import psycopg2 as ps # used to perform operations on PostgreSQL using python\n",
    "import numpy as np # for numerical calculation\n",
    "import matplotlib.pyplot as plt # for plotting\n",
    "import seaborn as sns # for interactive plotting with colors /used for plot interactive graph. I like it most for plot\n",
    "from sklearn.preprocessing import LabelEncoder # Encode target labels with value between 0 and n_classes-1\n",
    "from scipy import stats # offers variety of statistic functions\n",
    "from sklearn.preprocessing import StandardScaler # removes the mean and scales each feature/variable to unit variance.\n",
    "from sklearn.model_selection import train_test_split # to split arrays or matrices into random train and test subsets\n",
    "from sklearn.linear_model import LinearRegression # For building machine learning model\n",
    "from sklearn import metrics # for evaluating our model\n",
    "import pickle # Pickle is used for serializing and de-serializing a Python object structure\n",
    "%matplotlib inline"
   ]
  },
  {
   "cell_type": "markdown",
   "id": "5918f4ea",
   "metadata": {},
   "source": [
    "### Load Dataset"
   ]
  },
  {
   "cell_type": "code",
   "execution_count": 970,
   "id": "918881f7",
   "metadata": {},
   "outputs": [],
   "source": [
    "#Establishing a connection between jupyter otebook and postgresql database \n",
    "\n",
    "conn2 = ps.connect(dbname='postgres',\n",
    "                   user='postgres',\n",
    "                   password='0112358',\n",
    "                   host='localhost',\n",
    "                   port='5432' )"
   ]
  },
  {
   "cell_type": "code",
   "execution_count": 971,
   "id": "0251de68",
   "metadata": {},
   "outputs": [],
   "source": [
    "#loading our dataset\n",
    "\n",
    "sql = \"\"\"select * from used_car_data\"\"\"\n",
    "df = sqlio.read_sql_query(sql,conn2)"
   ]
  },
  {
   "cell_type": "markdown",
   "id": "f901d575",
   "metadata": {},
   "source": [
    "## 2.Data Understanding"
   ]
  },
  {
   "cell_type": "code",
   "execution_count": 972,
   "id": "ab6cd5d3",
   "metadata": {},
   "outputs": [
    {
     "data": {
      "text/html": [
       "<div>\n",
       "<style scoped>\n",
       "    .dataframe tbody tr th:only-of-type {\n",
       "        vertical-align: middle;\n",
       "    }\n",
       "\n",
       "    .dataframe tbody tr th {\n",
       "        vertical-align: top;\n",
       "    }\n",
       "\n",
       "    .dataframe thead th {\n",
       "        text-align: right;\n",
       "    }\n",
       "</style>\n",
       "<table border=\"1\" class=\"dataframe\">\n",
       "  <thead>\n",
       "    <tr style=\"text-align: right;\">\n",
       "      <th></th>\n",
       "      <th>index</th>\n",
       "      <th>brand</th>\n",
       "      <th>model</th>\n",
       "      <th>mileage</th>\n",
       "      <th>year</th>\n",
       "      <th>fuel_type</th>\n",
       "      <th>ownerCount</th>\n",
       "      <th>accidentCount</th>\n",
       "      <th>transmission</th>\n",
       "      <th>city</th>\n",
       "      <th>state</th>\n",
       "      <th>body_style</th>\n",
       "      <th>engine</th>\n",
       "      <th>drive_train</th>\n",
       "      <th>price</th>\n",
       "    </tr>\n",
       "  </thead>\n",
       "  <tbody>\n",
       "    <tr>\n",
       "      <th>0</th>\n",
       "      <td>0</td>\n",
       "      <td>Mercedes-Benz</td>\n",
       "      <td>GLC</td>\n",
       "      <td>18386</td>\n",
       "      <td>2019</td>\n",
       "      <td>Gas</td>\n",
       "      <td>1.0</td>\n",
       "      <td>0</td>\n",
       "      <td>Automatic</td>\n",
       "      <td>New York</td>\n",
       "      <td>NY</td>\n",
       "      <td>SUV</td>\n",
       "      <td>2.0L Inline-4 Gas Turbocharged</td>\n",
       "      <td>AWD</td>\n",
       "      <td>37906</td>\n",
       "    </tr>\n",
       "    <tr>\n",
       "      <th>1</th>\n",
       "      <td>1</td>\n",
       "      <td>Mercedes-Benz</td>\n",
       "      <td>C-Class</td>\n",
       "      <td>41829</td>\n",
       "      <td>2018</td>\n",
       "      <td>Gas</td>\n",
       "      <td>1.0</td>\n",
       "      <td>0</td>\n",
       "      <td>Automatic</td>\n",
       "      <td>New York</td>\n",
       "      <td>NY</td>\n",
       "      <td>Sedan</td>\n",
       "      <td>2.0L Inline-4 Gas Turbocharged</td>\n",
       "      <td>AWD</td>\n",
       "      <td>31901</td>\n",
       "    </tr>\n",
       "    <tr>\n",
       "      <th>2</th>\n",
       "      <td>2</td>\n",
       "      <td>Mercedes-Benz</td>\n",
       "      <td>C-Class</td>\n",
       "      <td>22667</td>\n",
       "      <td>2018</td>\n",
       "      <td>Gas</td>\n",
       "      <td>1.0</td>\n",
       "      <td>0</td>\n",
       "      <td>Automatic</td>\n",
       "      <td>New York</td>\n",
       "      <td>NY</td>\n",
       "      <td>Sedan</td>\n",
       "      <td>2.0L Inline-4 Gas Turbocharged</td>\n",
       "      <td>AWD</td>\n",
       "      <td>33906</td>\n",
       "    </tr>\n",
       "    <tr>\n",
       "      <th>3</th>\n",
       "      <td>3</td>\n",
       "      <td>Ferrari</td>\n",
       "      <td>612 Scaglietti</td>\n",
       "      <td>15104</td>\n",
       "      <td>2005</td>\n",
       "      <td>Gas</td>\n",
       "      <td>2.0</td>\n",
       "      <td>0</td>\n",
       "      <td>Automatic</td>\n",
       "      <td>New York</td>\n",
       "      <td>NY</td>\n",
       "      <td>Coupe</td>\n",
       "      <td>5.8L V-12 Gas</td>\n",
       "      <td>RWD</td>\n",
       "      <td>110500</td>\n",
       "    </tr>\n",
       "    <tr>\n",
       "      <th>4</th>\n",
       "      <td>4</td>\n",
       "      <td>Mercedes-Benz</td>\n",
       "      <td>GLA</td>\n",
       "      <td>33163</td>\n",
       "      <td>2019</td>\n",
       "      <td>Gas</td>\n",
       "      <td>1.0</td>\n",
       "      <td>0</td>\n",
       "      <td>Automatic</td>\n",
       "      <td>New York</td>\n",
       "      <td>NY</td>\n",
       "      <td>SUV</td>\n",
       "      <td>2.0L Inline-4 Gas Turbocharged</td>\n",
       "      <td>AWD</td>\n",
       "      <td>32904</td>\n",
       "    </tr>\n",
       "  </tbody>\n",
       "</table>\n",
       "</div>"
      ],
      "text/plain": [
       "   index          brand           model  mileage  year fuel_type  ownerCount  \\\n",
       "0      0  Mercedes-Benz             GLC    18386  2019       Gas         1.0   \n",
       "1      1  Mercedes-Benz         C-Class    41829  2018       Gas         1.0   \n",
       "2      2  Mercedes-Benz         C-Class    22667  2018       Gas         1.0   \n",
       "3      3        Ferrari  612 Scaglietti    15104  2005       Gas         2.0   \n",
       "4      4  Mercedes-Benz             GLA    33163  2019       Gas         1.0   \n",
       "\n",
       "   accidentCount transmission      city state body_style  \\\n",
       "0              0    Automatic  New York    NY        SUV   \n",
       "1              0    Automatic  New York    NY      Sedan   \n",
       "2              0    Automatic  New York    NY      Sedan   \n",
       "3              0    Automatic  New York    NY      Coupe   \n",
       "4              0    Automatic  New York    NY        SUV   \n",
       "\n",
       "                           engine drive_train   price  \n",
       "0  2.0L Inline-4 Gas Turbocharged         AWD   37906  \n",
       "1  2.0L Inline-4 Gas Turbocharged         AWD   31901  \n",
       "2  2.0L Inline-4 Gas Turbocharged         AWD   33906  \n",
       "3                   5.8L V-12 Gas         RWD  110500  \n",
       "4  2.0L Inline-4 Gas Turbocharged         AWD   32904  "
      ]
     },
     "execution_count": 972,
     "metadata": {},
     "output_type": "execute_result"
    }
   ],
   "source": [
    "#previewing the first 5 rows of the data\n",
    "df.head()"
   ]
  },
  {
   "cell_type": "code",
   "execution_count": 973,
   "id": "bcbd5ae3",
   "metadata": {},
   "outputs": [
    {
     "data": {
      "text/html": [
       "<div>\n",
       "<style scoped>\n",
       "    .dataframe tbody tr th:only-of-type {\n",
       "        vertical-align: middle;\n",
       "    }\n",
       "\n",
       "    .dataframe tbody tr th {\n",
       "        vertical-align: top;\n",
       "    }\n",
       "\n",
       "    .dataframe thead th {\n",
       "        text-align: right;\n",
       "    }\n",
       "</style>\n",
       "<table border=\"1\" class=\"dataframe\">\n",
       "  <thead>\n",
       "    <tr style=\"text-align: right;\">\n",
       "      <th></th>\n",
       "      <th>index</th>\n",
       "      <th>brand</th>\n",
       "      <th>model</th>\n",
       "      <th>mileage</th>\n",
       "      <th>year</th>\n",
       "      <th>fuel_type</th>\n",
       "      <th>ownerCount</th>\n",
       "      <th>accidentCount</th>\n",
       "      <th>transmission</th>\n",
       "      <th>city</th>\n",
       "      <th>state</th>\n",
       "      <th>body_style</th>\n",
       "      <th>engine</th>\n",
       "      <th>drive_train</th>\n",
       "      <th>price</th>\n",
       "    </tr>\n",
       "  </thead>\n",
       "  <tbody>\n",
       "    <tr>\n",
       "      <th>6034</th>\n",
       "      <td>6039</td>\n",
       "      <td>Acura</td>\n",
       "      <td>MDX</td>\n",
       "      <td>76527</td>\n",
       "      <td>2019</td>\n",
       "      <td>Gas</td>\n",
       "      <td>1.0</td>\n",
       "      <td>0</td>\n",
       "      <td>Automatic</td>\n",
       "      <td>Daly City</td>\n",
       "      <td>CA</td>\n",
       "      <td>SUV</td>\n",
       "      <td>3.5L V-6 Gas</td>\n",
       "      <td>AWD</td>\n",
       "      <td>35998</td>\n",
       "    </tr>\n",
       "    <tr>\n",
       "      <th>5754</th>\n",
       "      <td>5756</td>\n",
       "      <td>Dodge</td>\n",
       "      <td>Charger</td>\n",
       "      <td>50984</td>\n",
       "      <td>2019</td>\n",
       "      <td>Gas</td>\n",
       "      <td>2.0</td>\n",
       "      <td>1</td>\n",
       "      <td>Automatic</td>\n",
       "      <td>Daly City</td>\n",
       "      <td>CA</td>\n",
       "      <td>Sedan</td>\n",
       "      <td>3.6L V-6 Gas</td>\n",
       "      <td>RWD</td>\n",
       "      <td>26998</td>\n",
       "    </tr>\n",
       "    <tr>\n",
       "      <th>5875</th>\n",
       "      <td>5877</td>\n",
       "      <td>Honda</td>\n",
       "      <td>Civic</td>\n",
       "      <td>141462</td>\n",
       "      <td>2012</td>\n",
       "      <td>Gas</td>\n",
       "      <td>1.0</td>\n",
       "      <td>0</td>\n",
       "      <td>Automatic</td>\n",
       "      <td>San Mateo</td>\n",
       "      <td>CA</td>\n",
       "      <td>Sedan</td>\n",
       "      <td>1.8L Inline-4 Gas</td>\n",
       "      <td>FWD</td>\n",
       "      <td>10500</td>\n",
       "    </tr>\n",
       "    <tr>\n",
       "      <th>2184</th>\n",
       "      <td>2185</td>\n",
       "      <td>Nissan</td>\n",
       "      <td>Rogue</td>\n",
       "      <td>30341</td>\n",
       "      <td>2019</td>\n",
       "      <td>Gas</td>\n",
       "      <td>1.0</td>\n",
       "      <td>0</td>\n",
       "      <td>Automatic</td>\n",
       "      <td>Hackensack</td>\n",
       "      <td>NJ</td>\n",
       "      <td>SUV</td>\n",
       "      <td>2.5L Inline-4 Gas</td>\n",
       "      <td>AWD</td>\n",
       "      <td>25995</td>\n",
       "    </tr>\n",
       "    <tr>\n",
       "      <th>9325</th>\n",
       "      <td>9336</td>\n",
       "      <td>Ram</td>\n",
       "      <td>1500</td>\n",
       "      <td>61498</td>\n",
       "      <td>2018</td>\n",
       "      <td>Gas</td>\n",
       "      <td>1.0</td>\n",
       "      <td>0</td>\n",
       "      <td>Automatic</td>\n",
       "      <td>Fremont</td>\n",
       "      <td>CA</td>\n",
       "      <td>Pickup Truck</td>\n",
       "      <td>3.6L V-6 Gas</td>\n",
       "      <td>RWD</td>\n",
       "      <td>27592</td>\n",
       "    </tr>\n",
       "    <tr>\n",
       "      <th>2692</th>\n",
       "      <td>2693</td>\n",
       "      <td>Subaru</td>\n",
       "      <td>Forester</td>\n",
       "      <td>14224</td>\n",
       "      <td>2020</td>\n",
       "      <td>Gas</td>\n",
       "      <td>1.0</td>\n",
       "      <td>0</td>\n",
       "      <td>Automatic</td>\n",
       "      <td>Long Island City</td>\n",
       "      <td>NY</td>\n",
       "      <td>SUV</td>\n",
       "      <td>2.5L Flat-4 Gas</td>\n",
       "      <td>AWD</td>\n",
       "      <td>34998</td>\n",
       "    </tr>\n",
       "    <tr>\n",
       "      <th>6624</th>\n",
       "      <td>6630</td>\n",
       "      <td>Ford</td>\n",
       "      <td>Edge</td>\n",
       "      <td>63207</td>\n",
       "      <td>2018</td>\n",
       "      <td>Gas</td>\n",
       "      <td>1.0</td>\n",
       "      <td>0</td>\n",
       "      <td>Automatic</td>\n",
       "      <td>Richmond</td>\n",
       "      <td>CA</td>\n",
       "      <td>SUV</td>\n",
       "      <td>3.5L V-6 Gas Turbocharged</td>\n",
       "      <td>AWD</td>\n",
       "      <td>29991</td>\n",
       "    </tr>\n",
       "    <tr>\n",
       "      <th>484</th>\n",
       "      <td>484</td>\n",
       "      <td>Ford</td>\n",
       "      <td>Escape</td>\n",
       "      <td>41677</td>\n",
       "      <td>2019</td>\n",
       "      <td>Gas</td>\n",
       "      <td>1.0</td>\n",
       "      <td>1</td>\n",
       "      <td>Automatic</td>\n",
       "      <td>Hasbrouck Heights</td>\n",
       "      <td>NJ</td>\n",
       "      <td>SUV</td>\n",
       "      <td>1.5L Inline-4 Gas Turbocharged</td>\n",
       "      <td>4WD</td>\n",
       "      <td>23995</td>\n",
       "    </tr>\n",
       "    <tr>\n",
       "      <th>8199</th>\n",
       "      <td>8209</td>\n",
       "      <td>Mercedes-Benz</td>\n",
       "      <td>GLS</td>\n",
       "      <td>34560</td>\n",
       "      <td>2018</td>\n",
       "      <td>Gas</td>\n",
       "      <td>2.0</td>\n",
       "      <td>0</td>\n",
       "      <td>Automatic</td>\n",
       "      <td>Daly City</td>\n",
       "      <td>CA</td>\n",
       "      <td>SUV</td>\n",
       "      <td>4.7L V-8 Gas Turbocharged</td>\n",
       "      <td>AWD</td>\n",
       "      <td>62990</td>\n",
       "    </tr>\n",
       "    <tr>\n",
       "      <th>7168</th>\n",
       "      <td>7177</td>\n",
       "      <td>Dodge</td>\n",
       "      <td>Charger</td>\n",
       "      <td>53240</td>\n",
       "      <td>2018</td>\n",
       "      <td>Gas</td>\n",
       "      <td>2.0</td>\n",
       "      <td>0</td>\n",
       "      <td>Automatic</td>\n",
       "      <td>Daly City</td>\n",
       "      <td>CA</td>\n",
       "      <td>Sedan</td>\n",
       "      <td>3.6L V-6 Gas</td>\n",
       "      <td>RWD</td>\n",
       "      <td>26998</td>\n",
       "    </tr>\n",
       "  </tbody>\n",
       "</table>\n",
       "</div>"
      ],
      "text/plain": [
       "      index          brand     model  mileage  year fuel_type  ownerCount  \\\n",
       "6034   6039          Acura       MDX    76527  2019       Gas         1.0   \n",
       "5754   5756          Dodge   Charger    50984  2019       Gas         2.0   \n",
       "5875   5877          Honda     Civic   141462  2012       Gas         1.0   \n",
       "2184   2185         Nissan     Rogue    30341  2019       Gas         1.0   \n",
       "9325   9336            Ram      1500    61498  2018       Gas         1.0   \n",
       "2692   2693         Subaru  Forester    14224  2020       Gas         1.0   \n",
       "6624   6630           Ford      Edge    63207  2018       Gas         1.0   \n",
       "484     484           Ford    Escape    41677  2019       Gas         1.0   \n",
       "8199   8209  Mercedes-Benz       GLS    34560  2018       Gas         2.0   \n",
       "7168   7177          Dodge   Charger    53240  2018       Gas         2.0   \n",
       "\n",
       "      accidentCount transmission               city state    body_style  \\\n",
       "6034              0    Automatic          Daly City    CA           SUV   \n",
       "5754              1    Automatic          Daly City    CA         Sedan   \n",
       "5875              0    Automatic          San Mateo    CA         Sedan   \n",
       "2184              0    Automatic         Hackensack    NJ           SUV   \n",
       "9325              0    Automatic            Fremont    CA  Pickup Truck   \n",
       "2692              0    Automatic   Long Island City    NY           SUV   \n",
       "6624              0    Automatic           Richmond    CA           SUV   \n",
       "484               1    Automatic  Hasbrouck Heights    NJ           SUV   \n",
       "8199              0    Automatic          Daly City    CA           SUV   \n",
       "7168              0    Automatic          Daly City    CA         Sedan   \n",
       "\n",
       "                              engine drive_train  price  \n",
       "6034                    3.5L V-6 Gas         AWD  35998  \n",
       "5754                    3.6L V-6 Gas         RWD  26998  \n",
       "5875               1.8L Inline-4 Gas         FWD  10500  \n",
       "2184               2.5L Inline-4 Gas         AWD  25995  \n",
       "9325                    3.6L V-6 Gas         RWD  27592  \n",
       "2692                 2.5L Flat-4 Gas         AWD  34998  \n",
       "6624       3.5L V-6 Gas Turbocharged         AWD  29991  \n",
       "484   1.5L Inline-4 Gas Turbocharged         4WD  23995  \n",
       "8199       4.7L V-8 Gas Turbocharged         AWD  62990  \n",
       "7168                    3.6L V-6 Gas         RWD  26998  "
      ]
     },
     "execution_count": 973,
     "metadata": {},
     "output_type": "execute_result"
    }
   ],
   "source": [
    "#previewing 10 rows\n",
    "df.sample(10)"
   ]
  },
  {
   "cell_type": "code",
   "execution_count": 974,
   "id": "c69aadf0",
   "metadata": {},
   "outputs": [
    {
     "data": {
      "text/plain": [
       "Index(['index', 'brand', 'model', 'mileage', 'year', 'fuel_type', 'ownerCount',\n",
       "       'accidentCount', 'transmission', 'city', 'state', 'body_style',\n",
       "       'engine', 'drive_train', 'price'],\n",
       "      dtype='object')"
      ]
     },
     "execution_count": 974,
     "metadata": {},
     "output_type": "execute_result"
    }
   ],
   "source": [
    "#previewing the columns\n",
    "df.columns"
   ]
  },
  {
   "cell_type": "code",
   "execution_count": 975,
   "id": "a4993096",
   "metadata": {},
   "outputs": [
    {
     "data": {
      "text/plain": [
       "(10128, 15)"
      ]
     },
     "execution_count": 975,
     "metadata": {},
     "output_type": "execute_result"
    }
   ],
   "source": [
    "#previewing the dimensions or shape (rows and columns)of the data\n",
    "\n",
    "df.shape"
   ]
  },
  {
   "cell_type": "markdown",
   "id": "9341f51a",
   "metadata": {},
   "source": [
    "#### There are 10,128 rows and 15 columns"
   ]
  },
  {
   "cell_type": "markdown",
   "id": "facd7cca",
   "metadata": {},
   "source": [
    "  "
   ]
  },
  {
   "cell_type": "code",
   "execution_count": 976,
   "id": "24edfac2",
   "metadata": {
    "scrolled": true
   },
   "outputs": [
    {
     "name": "stdout",
     "output_type": "stream",
     "text": [
      "<class 'pandas.core.frame.DataFrame'>\n",
      "RangeIndex: 10128 entries, 0 to 10127\n",
      "Data columns (total 15 columns):\n",
      " #   Column         Non-Null Count  Dtype  \n",
      "---  ------         --------------  -----  \n",
      " 0   index          10128 non-null  int64  \n",
      " 1   brand          10128 non-null  object \n",
      " 2   model          10128 non-null  object \n",
      " 3   mileage        10128 non-null  int64  \n",
      " 4   year           10128 non-null  int64  \n",
      " 5   fuel_type      10128 non-null  object \n",
      " 6   ownerCount     10128 non-null  float64\n",
      " 7   accidentCount  10128 non-null  int64  \n",
      " 8   transmission   10128 non-null  object \n",
      " 9   city           10128 non-null  object \n",
      " 10  state          10128 non-null  object \n",
      " 11  body_style     10128 non-null  object \n",
      " 12  engine         10128 non-null  object \n",
      " 13  drive_train    10128 non-null  object \n",
      " 14  price          10128 non-null  int64  \n",
      "dtypes: float64(1), int64(5), object(9)\n",
      "memory usage: 1.2+ MB\n"
     ]
    }
   ],
   "source": [
    "#previewing the information about the dataset\n",
    "\n",
    "df.info()"
   ]
  },
  {
   "cell_type": "code",
   "execution_count": 977,
   "id": "9a457505",
   "metadata": {},
   "outputs": [
    {
     "data": {
      "text/html": [
       "<div>\n",
       "<style scoped>\n",
       "    .dataframe tbody tr th:only-of-type {\n",
       "        vertical-align: middle;\n",
       "    }\n",
       "\n",
       "    .dataframe tbody tr th {\n",
       "        vertical-align: top;\n",
       "    }\n",
       "\n",
       "    .dataframe thead th {\n",
       "        text-align: right;\n",
       "    }\n",
       "</style>\n",
       "<table border=\"1\" class=\"dataframe\">\n",
       "  <thead>\n",
       "    <tr style=\"text-align: right;\">\n",
       "      <th></th>\n",
       "      <th>index</th>\n",
       "      <th>mileage</th>\n",
       "      <th>year</th>\n",
       "      <th>ownerCount</th>\n",
       "      <th>accidentCount</th>\n",
       "      <th>price</th>\n",
       "    </tr>\n",
       "  </thead>\n",
       "  <tbody>\n",
       "    <tr>\n",
       "      <th>count</th>\n",
       "      <td>10128.000000</td>\n",
       "      <td>10128.000000</td>\n",
       "      <td>10128.000000</td>\n",
       "      <td>10128.000000</td>\n",
       "      <td>10128.000000</td>\n",
       "      <td>10128.000000</td>\n",
       "    </tr>\n",
       "    <tr>\n",
       "      <th>mean</th>\n",
       "      <td>5067.788606</td>\n",
       "      <td>47844.902449</td>\n",
       "      <td>2017.591035</td>\n",
       "      <td>1.484301</td>\n",
       "      <td>0.165482</td>\n",
       "      <td>31203.593503</td>\n",
       "    </tr>\n",
       "    <tr>\n",
       "      <th>std</th>\n",
       "      <td>2927.858320</td>\n",
       "      <td>35535.861685</td>\n",
       "      <td>2.790433</td>\n",
       "      <td>0.784685</td>\n",
       "      <td>0.444917</td>\n",
       "      <td>20124.758054</td>\n",
       "    </tr>\n",
       "    <tr>\n",
       "      <th>min</th>\n",
       "      <td>0.000000</td>\n",
       "      <td>17.000000</td>\n",
       "      <td>1998.000000</td>\n",
       "      <td>0.000000</td>\n",
       "      <td>0.000000</td>\n",
       "      <td>1899.000000</td>\n",
       "    </tr>\n",
       "    <tr>\n",
       "      <th>25%</th>\n",
       "      <td>2532.750000</td>\n",
       "      <td>23465.750000</td>\n",
       "      <td>2017.000000</td>\n",
       "      <td>1.000000</td>\n",
       "      <td>0.000000</td>\n",
       "      <td>21988.000000</td>\n",
       "    </tr>\n",
       "    <tr>\n",
       "      <th>50%</th>\n",
       "      <td>5065.500000</td>\n",
       "      <td>38739.500000</td>\n",
       "      <td>2018.000000</td>\n",
       "      <td>1.000000</td>\n",
       "      <td>0.000000</td>\n",
       "      <td>27998.000000</td>\n",
       "    </tr>\n",
       "    <tr>\n",
       "      <th>75%</th>\n",
       "      <td>7604.250000</td>\n",
       "      <td>61533.000000</td>\n",
       "      <td>2019.000000</td>\n",
       "      <td>2.000000</td>\n",
       "      <td>0.000000</td>\n",
       "      <td>36722.750000</td>\n",
       "    </tr>\n",
       "    <tr>\n",
       "      <th>max</th>\n",
       "      <td>10138.000000</td>\n",
       "      <td>376352.000000</td>\n",
       "      <td>2022.000000</td>\n",
       "      <td>9.000000</td>\n",
       "      <td>5.000000</td>\n",
       "      <td>442500.000000</td>\n",
       "    </tr>\n",
       "  </tbody>\n",
       "</table>\n",
       "</div>"
      ],
      "text/plain": [
       "              index        mileage          year    ownerCount  accidentCount  \\\n",
       "count  10128.000000   10128.000000  10128.000000  10128.000000   10128.000000   \n",
       "mean    5067.788606   47844.902449   2017.591035      1.484301       0.165482   \n",
       "std     2927.858320   35535.861685      2.790433      0.784685       0.444917   \n",
       "min        0.000000      17.000000   1998.000000      0.000000       0.000000   \n",
       "25%     2532.750000   23465.750000   2017.000000      1.000000       0.000000   \n",
       "50%     5065.500000   38739.500000   2018.000000      1.000000       0.000000   \n",
       "75%     7604.250000   61533.000000   2019.000000      2.000000       0.000000   \n",
       "max    10138.000000  376352.000000   2022.000000      9.000000       5.000000   \n",
       "\n",
       "               price  \n",
       "count   10128.000000  \n",
       "mean    31203.593503  \n",
       "std     20124.758054  \n",
       "min      1899.000000  \n",
       "25%     21988.000000  \n",
       "50%     27998.000000  \n",
       "75%     36722.750000  \n",
       "max    442500.000000  "
      ]
     },
     "execution_count": 977,
     "metadata": {},
     "output_type": "execute_result"
    }
   ],
   "source": [
    "#previewing the summary numerical statistics of our data\n",
    "\n",
    "df.describe()"
   ]
  },
  {
   "cell_type": "code",
   "execution_count": 978,
   "id": "c34eed4b",
   "metadata": {},
   "outputs": [
    {
     "data": {
      "text/html": [
       "<div>\n",
       "<style scoped>\n",
       "    .dataframe tbody tr th:only-of-type {\n",
       "        vertical-align: middle;\n",
       "    }\n",
       "\n",
       "    .dataframe tbody tr th {\n",
       "        vertical-align: top;\n",
       "    }\n",
       "\n",
       "    .dataframe thead th {\n",
       "        text-align: right;\n",
       "    }\n",
       "</style>\n",
       "<table border=\"1\" class=\"dataframe\">\n",
       "  <thead>\n",
       "    <tr style=\"text-align: right;\">\n",
       "      <th></th>\n",
       "      <th>index</th>\n",
       "      <th>brand</th>\n",
       "      <th>model</th>\n",
       "      <th>mileage</th>\n",
       "      <th>year</th>\n",
       "      <th>fuel_type</th>\n",
       "      <th>ownerCount</th>\n",
       "      <th>accidentCount</th>\n",
       "      <th>transmission</th>\n",
       "      <th>city</th>\n",
       "      <th>state</th>\n",
       "      <th>body_style</th>\n",
       "      <th>engine</th>\n",
       "      <th>drive_train</th>\n",
       "      <th>price</th>\n",
       "    </tr>\n",
       "  </thead>\n",
       "  <tbody>\n",
       "    <tr>\n",
       "      <th>count</th>\n",
       "      <td>10128.000000</td>\n",
       "      <td>10128</td>\n",
       "      <td>10128</td>\n",
       "      <td>10128.000000</td>\n",
       "      <td>10128.000000</td>\n",
       "      <td>10128</td>\n",
       "      <td>10128.000000</td>\n",
       "      <td>10128.000000</td>\n",
       "      <td>10128</td>\n",
       "      <td>10128</td>\n",
       "      <td>10128</td>\n",
       "      <td>10128</td>\n",
       "      <td>10128</td>\n",
       "      <td>10128</td>\n",
       "      <td>10128.000000</td>\n",
       "    </tr>\n",
       "    <tr>\n",
       "      <th>unique</th>\n",
       "      <td>NaN</td>\n",
       "      <td>48</td>\n",
       "      <td>444</td>\n",
       "      <td>NaN</td>\n",
       "      <td>NaN</td>\n",
       "      <td>7</td>\n",
       "      <td>NaN</td>\n",
       "      <td>NaN</td>\n",
       "      <td>2</td>\n",
       "      <td>187</td>\n",
       "      <td>5</td>\n",
       "      <td>11</td>\n",
       "      <td>164</td>\n",
       "      <td>4</td>\n",
       "      <td>NaN</td>\n",
       "    </tr>\n",
       "    <tr>\n",
       "      <th>top</th>\n",
       "      <td>NaN</td>\n",
       "      <td>Ford</td>\n",
       "      <td>Accord</td>\n",
       "      <td>NaN</td>\n",
       "      <td>NaN</td>\n",
       "      <td>Gas</td>\n",
       "      <td>NaN</td>\n",
       "      <td>NaN</td>\n",
       "      <td>Automatic</td>\n",
       "      <td>Daly City</td>\n",
       "      <td>CA</td>\n",
       "      <td>SUV</td>\n",
       "      <td>2.0L Inline-4 Gas Turbocharged</td>\n",
       "      <td>FWD</td>\n",
       "      <td>NaN</td>\n",
       "    </tr>\n",
       "    <tr>\n",
       "      <th>freq</th>\n",
       "      <td>NaN</td>\n",
       "      <td>1146</td>\n",
       "      <td>296</td>\n",
       "      <td>NaN</td>\n",
       "      <td>NaN</td>\n",
       "      <td>9590</td>\n",
       "      <td>NaN</td>\n",
       "      <td>NaN</td>\n",
       "      <td>9837</td>\n",
       "      <td>2804</td>\n",
       "      <td>5060</td>\n",
       "      <td>4871</td>\n",
       "      <td>1435</td>\n",
       "      <td>3524</td>\n",
       "      <td>NaN</td>\n",
       "    </tr>\n",
       "    <tr>\n",
       "      <th>mean</th>\n",
       "      <td>5067.788606</td>\n",
       "      <td>NaN</td>\n",
       "      <td>NaN</td>\n",
       "      <td>47844.902449</td>\n",
       "      <td>2017.591035</td>\n",
       "      <td>NaN</td>\n",
       "      <td>1.484301</td>\n",
       "      <td>0.165482</td>\n",
       "      <td>NaN</td>\n",
       "      <td>NaN</td>\n",
       "      <td>NaN</td>\n",
       "      <td>NaN</td>\n",
       "      <td>NaN</td>\n",
       "      <td>NaN</td>\n",
       "      <td>31203.593503</td>\n",
       "    </tr>\n",
       "    <tr>\n",
       "      <th>std</th>\n",
       "      <td>2927.858320</td>\n",
       "      <td>NaN</td>\n",
       "      <td>NaN</td>\n",
       "      <td>35535.861685</td>\n",
       "      <td>2.790433</td>\n",
       "      <td>NaN</td>\n",
       "      <td>0.784685</td>\n",
       "      <td>0.444917</td>\n",
       "      <td>NaN</td>\n",
       "      <td>NaN</td>\n",
       "      <td>NaN</td>\n",
       "      <td>NaN</td>\n",
       "      <td>NaN</td>\n",
       "      <td>NaN</td>\n",
       "      <td>20124.758054</td>\n",
       "    </tr>\n",
       "    <tr>\n",
       "      <th>min</th>\n",
       "      <td>0.000000</td>\n",
       "      <td>NaN</td>\n",
       "      <td>NaN</td>\n",
       "      <td>17.000000</td>\n",
       "      <td>1998.000000</td>\n",
       "      <td>NaN</td>\n",
       "      <td>0.000000</td>\n",
       "      <td>0.000000</td>\n",
       "      <td>NaN</td>\n",
       "      <td>NaN</td>\n",
       "      <td>NaN</td>\n",
       "      <td>NaN</td>\n",
       "      <td>NaN</td>\n",
       "      <td>NaN</td>\n",
       "      <td>1899.000000</td>\n",
       "    </tr>\n",
       "    <tr>\n",
       "      <th>25%</th>\n",
       "      <td>2532.750000</td>\n",
       "      <td>NaN</td>\n",
       "      <td>NaN</td>\n",
       "      <td>23465.750000</td>\n",
       "      <td>2017.000000</td>\n",
       "      <td>NaN</td>\n",
       "      <td>1.000000</td>\n",
       "      <td>0.000000</td>\n",
       "      <td>NaN</td>\n",
       "      <td>NaN</td>\n",
       "      <td>NaN</td>\n",
       "      <td>NaN</td>\n",
       "      <td>NaN</td>\n",
       "      <td>NaN</td>\n",
       "      <td>21988.000000</td>\n",
       "    </tr>\n",
       "    <tr>\n",
       "      <th>50%</th>\n",
       "      <td>5065.500000</td>\n",
       "      <td>NaN</td>\n",
       "      <td>NaN</td>\n",
       "      <td>38739.500000</td>\n",
       "      <td>2018.000000</td>\n",
       "      <td>NaN</td>\n",
       "      <td>1.000000</td>\n",
       "      <td>0.000000</td>\n",
       "      <td>NaN</td>\n",
       "      <td>NaN</td>\n",
       "      <td>NaN</td>\n",
       "      <td>NaN</td>\n",
       "      <td>NaN</td>\n",
       "      <td>NaN</td>\n",
       "      <td>27998.000000</td>\n",
       "    </tr>\n",
       "    <tr>\n",
       "      <th>75%</th>\n",
       "      <td>7604.250000</td>\n",
       "      <td>NaN</td>\n",
       "      <td>NaN</td>\n",
       "      <td>61533.000000</td>\n",
       "      <td>2019.000000</td>\n",
       "      <td>NaN</td>\n",
       "      <td>2.000000</td>\n",
       "      <td>0.000000</td>\n",
       "      <td>NaN</td>\n",
       "      <td>NaN</td>\n",
       "      <td>NaN</td>\n",
       "      <td>NaN</td>\n",
       "      <td>NaN</td>\n",
       "      <td>NaN</td>\n",
       "      <td>36722.750000</td>\n",
       "    </tr>\n",
       "    <tr>\n",
       "      <th>max</th>\n",
       "      <td>10138.000000</td>\n",
       "      <td>NaN</td>\n",
       "      <td>NaN</td>\n",
       "      <td>376352.000000</td>\n",
       "      <td>2022.000000</td>\n",
       "      <td>NaN</td>\n",
       "      <td>9.000000</td>\n",
       "      <td>5.000000</td>\n",
       "      <td>NaN</td>\n",
       "      <td>NaN</td>\n",
       "      <td>NaN</td>\n",
       "      <td>NaN</td>\n",
       "      <td>NaN</td>\n",
       "      <td>NaN</td>\n",
       "      <td>442500.000000</td>\n",
       "    </tr>\n",
       "  </tbody>\n",
       "</table>\n",
       "</div>"
      ],
      "text/plain": [
       "               index  brand   model        mileage          year fuel_type  \\\n",
       "count   10128.000000  10128   10128   10128.000000  10128.000000     10128   \n",
       "unique           NaN     48     444            NaN           NaN         7   \n",
       "top              NaN   Ford  Accord            NaN           NaN       Gas   \n",
       "freq             NaN   1146     296            NaN           NaN      9590   \n",
       "mean     5067.788606    NaN     NaN   47844.902449   2017.591035       NaN   \n",
       "std      2927.858320    NaN     NaN   35535.861685      2.790433       NaN   \n",
       "min         0.000000    NaN     NaN      17.000000   1998.000000       NaN   \n",
       "25%      2532.750000    NaN     NaN   23465.750000   2017.000000       NaN   \n",
       "50%      5065.500000    NaN     NaN   38739.500000   2018.000000       NaN   \n",
       "75%      7604.250000    NaN     NaN   61533.000000   2019.000000       NaN   \n",
       "max     10138.000000    NaN     NaN  376352.000000   2022.000000       NaN   \n",
       "\n",
       "          ownerCount  accidentCount transmission       city  state body_style  \\\n",
       "count   10128.000000   10128.000000        10128      10128  10128      10128   \n",
       "unique           NaN            NaN            2        187      5         11   \n",
       "top              NaN            NaN    Automatic  Daly City     CA        SUV   \n",
       "freq             NaN            NaN         9837       2804   5060       4871   \n",
       "mean        1.484301       0.165482          NaN        NaN    NaN        NaN   \n",
       "std         0.784685       0.444917          NaN        NaN    NaN        NaN   \n",
       "min         0.000000       0.000000          NaN        NaN    NaN        NaN   \n",
       "25%         1.000000       0.000000          NaN        NaN    NaN        NaN   \n",
       "50%         1.000000       0.000000          NaN        NaN    NaN        NaN   \n",
       "75%         2.000000       0.000000          NaN        NaN    NaN        NaN   \n",
       "max         9.000000       5.000000          NaN        NaN    NaN        NaN   \n",
       "\n",
       "                                engine drive_train          price  \n",
       "count                            10128       10128   10128.000000  \n",
       "unique                             164           4            NaN  \n",
       "top     2.0L Inline-4 Gas Turbocharged         FWD            NaN  \n",
       "freq                              1435        3524            NaN  \n",
       "mean                               NaN         NaN   31203.593503  \n",
       "std                                NaN         NaN   20124.758054  \n",
       "min                                NaN         NaN    1899.000000  \n",
       "25%                                NaN         NaN   21988.000000  \n",
       "50%                                NaN         NaN   27998.000000  \n",
       "75%                                NaN         NaN   36722.750000  \n",
       "max                                NaN         NaN  442500.000000  "
      ]
     },
     "execution_count": 978,
     "metadata": {},
     "output_type": "execute_result"
    }
   ],
   "source": [
    "#previewing both numerical and categorical statistics\n",
    "\n",
    "df.describe(include=\"all\")"
   ]
  },
  {
   "cell_type": "code",
   "execution_count": 979,
   "id": "cb5b1e1d",
   "metadata": {},
   "outputs": [
    {
     "data": {
      "text/plain": [
       "index            0\n",
       "brand            0\n",
       "model            0\n",
       "mileage          0\n",
       "year             0\n",
       "fuel_type        0\n",
       "ownerCount       0\n",
       "accidentCount    0\n",
       "transmission     0\n",
       "city             0\n",
       "state            0\n",
       "body_style       0\n",
       "engine           0\n",
       "drive_train      0\n",
       "price            0\n",
       "dtype: int64"
      ]
     },
     "execution_count": 979,
     "metadata": {},
     "output_type": "execute_result"
    }
   ],
   "source": [
    "#checking for missing values in our data\n",
    "\n",
    "df.isna().sum()"
   ]
  },
  {
   "cell_type": "code",
   "execution_count": 980,
   "id": "2dbd3304",
   "metadata": {},
   "outputs": [
    {
     "data": {
      "text/plain": [
       "0"
      ]
     },
     "execution_count": 980,
     "metadata": {},
     "output_type": "execute_result"
    }
   ],
   "source": [
    "#checking for duplicated values in our data\n",
    "\n",
    "df.duplicated().sum()"
   ]
  },
  {
   "cell_type": "code",
   "execution_count": 981,
   "id": "20500a2b",
   "metadata": {},
   "outputs": [
    {
     "data": {
      "text/plain": [
       "index            10128\n",
       "brand               48\n",
       "model              444\n",
       "mileage           9006\n",
       "year                25\n",
       "fuel_type            7\n",
       "ownerCount           9\n",
       "accidentCount        6\n",
       "transmission         2\n",
       "city               187\n",
       "state                5\n",
       "body_style          11\n",
       "engine             164\n",
       "drive_train          4\n",
       "price             3441\n",
       "dtype: int64"
      ]
     },
     "execution_count": 981,
     "metadata": {},
     "output_type": "execute_result"
    }
   ],
   "source": [
    "#checking unique values\n",
    "\n",
    "df.nunique()"
   ]
  },
  {
   "cell_type": "markdown",
   "id": "dc8add96",
   "metadata": {},
   "source": [
    "## 3.Exploratory Data Analysis --Data Wrangling\\Cleaning"
   ]
  },
  {
   "cell_type": "code",
   "execution_count": 982,
   "id": "1f7328b0",
   "metadata": {
    "scrolled": true
   },
   "outputs": [],
   "source": [
    "# we need to remove the index column\n",
    "\n",
    "df.drop('index',axis=1,inplace=True)"
   ]
  },
  {
   "cell_type": "markdown",
   "id": "c3ca1681",
   "metadata": {},
   "source": [
    "#### Encoding categorical values to numerical values"
   ]
  },
  {
   "cell_type": "code",
   "execution_count": 983,
   "id": "7340c1d7",
   "metadata": {},
   "outputs": [],
   "source": [
    "#Instantiation\n",
    "\n",
    "le=LabelEncoder()"
   ]
  },
  {
   "cell_type": "code",
   "execution_count": 984,
   "id": "2642f9b1",
   "metadata": {},
   "outputs": [],
   "source": [
    "df['transmission'] = le.fit_transform(df['transmission'])\n",
    "df['drive_train']  = le.fit_transform(df['drive_train'])\n",
    "df['fuel_type']    = le.fit_transform(df['fuel_type'])"
   ]
  },
  {
   "cell_type": "markdown",
   "id": "a59ce095",
   "metadata": {},
   "source": [
    "## 4.Data Visualization\n"
   ]
  },
  {
   "cell_type": "markdown",
   "id": "4ad4440c",
   "metadata": {},
   "source": [
    "### I.Univariate analysis"
   ]
  },
  {
   "cell_type": "markdown",
   "id": "2b597d35",
   "metadata": {},
   "source": [
    "####     Mileage"
   ]
  },
  {
   "cell_type": "code",
   "execution_count": 985,
   "id": "abcaf9e2",
   "metadata": {
    "scrolled": false
   },
   "outputs": [
    {
     "data": {
      "text/plain": [
       "<seaborn.axisgrid.FacetGrid at 0x117632e1ca0>"
      ]
     },
     "execution_count": 985,
     "metadata": {},
     "output_type": "execute_result"
    },
    {
     "data": {
      "image/png": "[encoded data removed]",
      "text/plain": [
       "<Figure size 360x360 with 1 Axes>"
      ]
     },
     "metadata": {
      "needs_background": "light"
     },
     "output_type": "display_data"
    }
   ],
   "source": [
    "sns.displot(y='mileage',data=df,bins=60)\n"
   ]
  },
  {
   "cell_type": "markdown",
   "id": "9021f6d3",
   "metadata": {},
   "source": [
    "#### Year"
   ]
  },
  {
   "cell_type": "code",
   "execution_count": 986,
   "id": "f3cdef7b",
   "metadata": {},
   "outputs": [
    {
     "data": {
      "text/plain": [
       "<seaborn.axisgrid.FacetGrid at 0x1176328bac0>"
      ]
     },
     "execution_count": 986,
     "metadata": {},
     "output_type": "execute_result"
    },
    {
     "data": {
      "image/png": "[encoded data removed]",
      "text/plain": [
       "<Figure size 360x360 with 1 Axes>"
      ]
     },
     "metadata": {
      "needs_background": "light"
     },
     "output_type": "display_data"
    }
   ],
   "source": [
    "sns.displot(x='year',data=df,bins=30)"
   ]
  },
  {
   "cell_type": "markdown",
   "id": "5b60a567",
   "metadata": {},
   "source": [
    "#### Fuel Type"
   ]
  },
  {
   "cell_type": "code",
   "execution_count": 987,
   "id": "f960d831",
   "metadata": {
    "scrolled": false
   },
   "outputs": [
    {
     "data": {
      "text/plain": [
       "<AxesSubplot:xlabel='count', ylabel='fuel_type'>"
      ]
     },
     "execution_count": 987,
     "metadata": {},
     "output_type": "execute_result"
    },
    {
     "data": {
      "image/png": "[encoded data removed]",
      "text/plain": [
       "<Figure size 432x288 with 1 Axes>"
      ]
     },
     "metadata": {
      "needs_background": "light"
     },
     "output_type": "display_data"
    }
   ],
   "source": [
    "# 0 CNG\n",
    "# 1 Diesel\n",
    "# 2 Electric\n",
    "# 3 Gas\n",
    "# 4 Hybrid\n",
    "# 5 Hydrogen\n",
    "# 6 Plug-In Hybrid\n",
    "\n",
    "sns.countplot(data=df,y='fuel_type')"
   ]
  },
  {
   "cell_type": "markdown",
   "id": "ddeefe06",
   "metadata": {},
   "source": [
    "#### Owner Count"
   ]
  },
  {
   "cell_type": "code",
   "execution_count": 988,
   "id": "2d6b0ec4",
   "metadata": {},
   "outputs": [
    {
     "data": {
      "text/plain": [
       "<AxesSubplot:xlabel='ownerCount', ylabel='count'>"
      ]
     },
     "execution_count": 988,
     "metadata": {},
     "output_type": "execute_result"
    },
    {
     "data": {
      "image/png": "[encoded data removed]",
      "text/plain": [
       "<Figure size 432x288 with 1 Axes>"
      ]
     },
     "metadata": {
      "needs_background": "light"
     },
     "output_type": "display_data"
    }
   ],
   "source": [
    "sns.countplot(data=df,x='ownerCount')"
   ]
  },
  {
   "cell_type": "markdown",
   "id": "1c786503",
   "metadata": {},
   "source": [
    "#### Accident Count"
   ]
  },
  {
   "cell_type": "code",
   "execution_count": 989,
   "id": "0bcb7439",
   "metadata": {},
   "outputs": [
    {
     "data": {
      "text/plain": [
       "<AxesSubplot:xlabel='accidentCount', ylabel='count'>"
      ]
     },
     "execution_count": 989,
     "metadata": {},
     "output_type": "execute_result"
    },
    {
     "data": {
      "image/png": "[encoded data removed]",
      "text/plain": [
       "<Figure size 432x288 with 1 Axes>"
      ]
     },
     "metadata": {
      "needs_background": "light"
     },
     "output_type": "display_data"
    }
   ],
   "source": [
    "sns.countplot(data=df,x='accidentCount')"
   ]
  },
  {
   "cell_type": "markdown",
   "id": "73c7a1bd",
   "metadata": {},
   "source": [
    "#### Transmission"
   ]
  },
  {
   "cell_type": "code",
   "execution_count": 990,
   "id": "09246641",
   "metadata": {
    "scrolled": true
   },
   "outputs": [
    {
     "data": {
      "text/plain": [
       "<AxesSubplot:xlabel='transmission', ylabel='count'>"
      ]
     },
     "execution_count": 990,
     "metadata": {},
     "output_type": "execute_result"
    },
    {
     "data": {
      "image/png": "[encoded data removed]",
      "text/plain": [
       "<Figure size 432x288 with 1 Axes>"
      ]
     },
     "metadata": {
      "needs_background": "light"
     },
     "output_type": "display_data"
    }
   ],
   "source": [
    "# 0 automatic\n",
    "# 1 Manual\n",
    "\n",
    "sns.countplot(data=df,x='transmission',)"
   ]
  },
  {
   "cell_type": "markdown",
   "id": "7a62e459",
   "metadata": {},
   "source": [
    "#### State"
   ]
  },
  {
   "cell_type": "code",
   "execution_count": 991,
   "id": "4fc76d76",
   "metadata": {},
   "outputs": [
    {
     "data": {
      "text/plain": [
       "<seaborn.axisgrid.FacetGrid at 0x11765566850>"
      ]
     },
     "execution_count": 991,
     "metadata": {},
     "output_type": "execute_result"
    },
    {
     "data": {
      "image/png": "[encoded data removed]",
      "text/plain": [
       "<Figure size 360x360 with 1 Axes>"
      ]
     },
     "metadata": {
      "needs_background": "light"
     },
     "output_type": "display_data"
    }
   ],
   "source": [
    "sns.displot(x='state',data=df)"
   ]
  },
  {
   "cell_type": "markdown",
   "id": "1cd4c648",
   "metadata": {},
   "source": [
    "#### Drive Train"
   ]
  },
  {
   "cell_type": "code",
   "execution_count": 992,
   "id": "31321f12",
   "metadata": {
    "scrolled": false
   },
   "outputs": [
    {
     "data": {
      "text/plain": [
       "<AxesSubplot:xlabel='drive_train', ylabel='Count'>"
      ]
     },
     "execution_count": 992,
     "metadata": {},
     "output_type": "execute_result"
    },
    {
     "data": {
      "image/png": "[encoded data removed]",
      "text/plain": [
       "<Figure size 432x288 with 1 Axes>"
      ]
     },
     "metadata": {
      "needs_background": "light"
     },
     "output_type": "display_data"
    }
   ],
   "source": [
    "# 0 4WD\n",
    "# 1 AWD\n",
    "# 2 FWD\n",
    "# 3 RWD\n",
    "\n",
    "\n",
    "sns.histplot(x='drive_train',data=df)"
   ]
  },
  {
   "cell_type": "markdown",
   "id": "022e0224",
   "metadata": {},
   "source": [
    "#### Price"
   ]
  },
  {
   "cell_type": "code",
   "execution_count": 993,
   "id": "7243f903",
   "metadata": {},
   "outputs": [
    {
     "data": {
      "text/plain": [
       "<seaborn.axisgrid.FacetGrid at 0x117641293d0>"
      ]
     },
     "execution_count": 993,
     "metadata": {},
     "output_type": "execute_result"
    },
    {
     "data": {
      "image/png": "[encoded data removed]",
      "text/plain": [
       "<Figure size 360x360 with 1 Axes>"
      ]
     },
     "metadata": {
      "needs_background": "light"
     },
     "output_type": "display_data"
    }
   ],
   "source": [
    "sns.displot(x='price',data=df,bins=60)"
   ]
  },
  {
   "cell_type": "markdown",
   "id": "61f2a21d",
   "metadata": {},
   "source": [
    "### II.Bivariate analysis"
   ]
  },
  {
   "cell_type": "markdown",
   "id": "3f43b601",
   "metadata": {},
   "source": [
    "#### mileage vs price"
   ]
  },
  {
   "cell_type": "code",
   "execution_count": 994,
   "id": "c7f8ea60",
   "metadata": {
    "scrolled": false
   },
   "outputs": [
    {
     "data": {
      "text/plain": [
       "<AxesSubplot:xlabel='mileage', ylabel='price'>"
      ]
     },
     "execution_count": 994,
     "metadata": {},
     "output_type": "execute_result"
    },
    {
     "data": {
      "image/png": "[encoded data removed]",
      "text/plain": [
       "<Figure size 432x288 with 1 Axes>"
      ]
     },
     "metadata": {
      "needs_background": "light"
     },
     "output_type": "display_data"
    }
   ],
   "source": [
    "sns.scatterplot(data=df,x='mileage',y='price')"
   ]
  },
  {
   "cell_type": "markdown",
   "id": "3fbcfd4c",
   "metadata": {},
   "source": [
    "#### year vs price"
   ]
  },
  {
   "cell_type": "code",
   "execution_count": 995,
   "id": "a016359b",
   "metadata": {},
   "outputs": [
    {
     "data": {
      "text/plain": [
       "<AxesSubplot:xlabel='year', ylabel='price'>"
      ]
     },
     "execution_count": 995,
     "metadata": {},
     "output_type": "execute_result"
    },
    {
     "data": {
      "image/png": "[encoded data removed]",
      "text/plain": [
       "<Figure size 1440x1080 with 1 Axes>"
      ]
     },
     "metadata": {
      "needs_background": "light"
     },
     "output_type": "display_data"
    }
   ],
   "source": [
    "plt.figure(figsize=(20,15))\n",
    "sns.barplot(data=df,x='year',y='price')"
   ]
  },
  {
   "cell_type": "markdown",
   "id": "f4075deb",
   "metadata": {},
   "source": [
    "#### fuel_type vs price with trasmission as hue"
   ]
  },
  {
   "cell_type": "code",
   "execution_count": 996,
   "id": "3857affb",
   "metadata": {},
   "outputs": [
    {
     "data": {
      "text/plain": [
       "<AxesSubplot:xlabel='fuel_type', ylabel='price'>"
      ]
     },
     "execution_count": 996,
     "metadata": {},
     "output_type": "execute_result"
    },
    {
     "data": {
      "image/png": "[encoded data removed]",
      "text/plain": [
       "<Figure size 1440x720 with 1 Axes>"
      ]
     },
     "metadata": {
      "needs_background": "light"
     },
     "output_type": "display_data"
    }
   ],
   "source": [
    "# 0 CNG\n",
    "# 1 Diesel\n",
    "# 2 Electric\n",
    "# 3 Gas\n",
    "# 4 Hybrid\n",
    "# 5 Hydrogen\n",
    "# 6 Plug-In Hybrid\n",
    "\n",
    "plt.figure(figsize=(20,10))\n",
    "sns.barplot(data=df,x='fuel_type',y='price',hue='transmission')\n"
   ]
  },
  {
   "cell_type": "markdown",
   "id": "16e9d184",
   "metadata": {},
   "source": [
    "#### owner count vs price with accident count as hue"
   ]
  },
  {
   "cell_type": "code",
   "execution_count": 997,
   "id": "29480791",
   "metadata": {},
   "outputs": [
    {
     "data": {
      "text/plain": [
       "<AxesSubplot:xlabel='ownerCount', ylabel='price'>"
      ]
     },
     "execution_count": 997,
     "metadata": {},
     "output_type": "execute_result"
    },
    {
     "data": {
      "image/png": "[encoded data removed]",
      "text/plain": [
       "<Figure size 1440x1080 with 1 Axes>"
      ]
     },
     "metadata": {
      "needs_background": "light"
     },
     "output_type": "display_data"
    }
   ],
   "source": [
    "plt.figure(figsize=(20,15))\n",
    "sns.barplot(data=df,x='ownerCount',y='price',hue='accidentCount')"
   ]
  },
  {
   "cell_type": "markdown",
   "id": "6f260656",
   "metadata": {},
   "source": [
    "####  state vs price"
   ]
  },
  {
   "cell_type": "code",
   "execution_count": 998,
   "id": "68886d30",
   "metadata": {
    "scrolled": false
   },
   "outputs": [
    {
     "data": {
      "text/plain": [
       "<AxesSubplot:xlabel='state', ylabel='price'>"
      ]
     },
     "execution_count": 998,
     "metadata": {},
     "output_type": "execute_result"
    },
    {
     "data": {
      "image/png": "[encoded data removed]",
      "text/plain": [
       "<Figure size 720x360 with 1 Axes>"
      ]
     },
     "metadata": {
      "needs_background": "light"
     },
     "output_type": "display_data"
    }
   ],
   "source": [
    "plt.figure(figsize=(10,5))\n",
    "sns.barplot(data=df,x='state',y='price')"
   ]
  },
  {
   "cell_type": "markdown",
   "id": "9d6b58ba",
   "metadata": {},
   "source": [
    "#### drive train vs price with transmission as hue"
   ]
  },
  {
   "cell_type": "code",
   "execution_count": 999,
   "id": "76b80543",
   "metadata": {
    "scrolled": false
   },
   "outputs": [
    {
     "data": {
      "text/plain": [
       "<AxesSubplot:xlabel='drive_train', ylabel='price'>"
      ]
     },
     "execution_count": 999,
     "metadata": {},
     "output_type": "execute_result"
    },
    {
     "data": {
      "image/png": "[encoded data removed]",
      "text/plain": [
       "<Figure size 720x360 with 1 Axes>"
      ]
     },
     "metadata": {
      "needs_background": "light"
     },
     "output_type": "display_data"
    }
   ],
   "source": [
    "plt.figure(figsize=(10,5))\n",
    "sns.barplot(x='drive_train',y='price',data=df,hue='transmission')"
   ]
  },
  {
   "cell_type": "markdown",
   "id": "1846fdd6",
   "metadata": {},
   "source": [
    "## 5.Data Preprocessing and Feature Engineering"
   ]
  },
  {
   "cell_type": "markdown",
   "id": "4f7ab248",
   "metadata": {},
   "source": [
    "### correlation"
   ]
  },
  {
   "cell_type": "code",
   "execution_count": 1000,
   "id": "58d7768a",
   "metadata": {},
   "outputs": [
    {
     "data": {
      "text/plain": [
       "<AxesSubplot:>"
      ]
     },
     "execution_count": 1000,
     "metadata": {},
     "output_type": "execute_result"
    },
    {
     "data": {
      "image/png": "[encoded data removed]",
      "text/plain": [
       "<Figure size 1080x720 with 2 Axes>"
      ]
     },
     "metadata": {
      "needs_background": "light"
     },
     "output_type": "display_data"
    }
   ],
   "source": [
    "plt.figure(figsize=(15,10))\n",
    "sns.heatmap(df.corr(),annot=True,cmap='coolwarm')"
   ]
  },
  {
   "cell_type": "markdown",
   "id": "18b1211c",
   "metadata": {},
   "source": [
    "### Removing outliers"
   ]
  },
  {
   "cell_type": "code",
   "execution_count": 1001,
   "id": "7b127650",
   "metadata": {},
   "outputs": [],
   "source": [
    "#Removing categorical columns\n",
    "\n",
    "df.drop(['state','body_style','brand','model','city','engine'],axis=1,inplace=True)"
   ]
  },
  {
   "cell_type": "code",
   "execution_count": 1002,
   "id": "12a3c54c",
   "metadata": {
    "scrolled": true
   },
   "outputs": [
    {
     "data": {
      "text/plain": [
       "<AxesSubplot:xlabel='price'>"
      ]
     },
     "execution_count": 1002,
     "metadata": {},
     "output_type": "execute_result"
    },
    {
     "data": {
      "image/png": "[encoded data removed]",
      "text/plain": [
       "<Figure size 432x288 with 1 Axes>"
      ]
     },
     "metadata": {
      "needs_background": "light"
     },
     "output_type": "display_data"
    }
   ],
   "source": [
    "sns.boxplot(x='price',data = df)"
   ]
  },
  {
   "cell_type": "code",
   "execution_count": 1003,
   "id": "75624331",
   "metadata": {
    "scrolled": true
   },
   "outputs": [
    {
     "data": {
      "text/plain": [
       "(8942, 8)"
      ]
     },
     "execution_count": 1003,
     "metadata": {},
     "output_type": "execute_result"
    }
   ],
   "source": [
    "#remove outliers in all the columns\n",
    "\n",
    "df = df[(np.abs(stats.zscore(df)) < 3).all(axis=1)]\n",
    "df.shape"
   ]
  },
  {
   "cell_type": "code",
   "execution_count": 1004,
   "id": "f10c06a3",
   "metadata": {},
   "outputs": [
    {
     "data": {
      "text/html": [
       "<div>\n",
       "<style scoped>\n",
       "    .dataframe tbody tr th:only-of-type {\n",
       "        vertical-align: middle;\n",
       "    }\n",
       "\n",
       "    .dataframe tbody tr th {\n",
       "        vertical-align: top;\n",
       "    }\n",
       "\n",
       "    .dataframe thead th {\n",
       "        text-align: right;\n",
       "    }\n",
       "</style>\n",
       "<table border=\"1\" class=\"dataframe\">\n",
       "  <thead>\n",
       "    <tr style=\"text-align: right;\">\n",
       "      <th></th>\n",
       "      <th>mileage</th>\n",
       "      <th>year</th>\n",
       "      <th>fuel_type</th>\n",
       "      <th>ownerCount</th>\n",
       "      <th>accidentCount</th>\n",
       "      <th>transmission</th>\n",
       "      <th>drive_train</th>\n",
       "      <th>price</th>\n",
       "    </tr>\n",
       "  </thead>\n",
       "  <tbody>\n",
       "    <tr>\n",
       "      <th>0</th>\n",
       "      <td>18386</td>\n",
       "      <td>2019</td>\n",
       "      <td>3</td>\n",
       "      <td>1.0</td>\n",
       "      <td>0</td>\n",
       "      <td>0</td>\n",
       "      <td>1</td>\n",
       "      <td>37906</td>\n",
       "    </tr>\n",
       "    <tr>\n",
       "      <th>1</th>\n",
       "      <td>41829</td>\n",
       "      <td>2018</td>\n",
       "      <td>3</td>\n",
       "      <td>1.0</td>\n",
       "      <td>0</td>\n",
       "      <td>0</td>\n",
       "      <td>1</td>\n",
       "      <td>31901</td>\n",
       "    </tr>\n",
       "    <tr>\n",
       "      <th>2</th>\n",
       "      <td>22667</td>\n",
       "      <td>2018</td>\n",
       "      <td>3</td>\n",
       "      <td>1.0</td>\n",
       "      <td>0</td>\n",
       "      <td>0</td>\n",
       "      <td>1</td>\n",
       "      <td>33906</td>\n",
       "    </tr>\n",
       "    <tr>\n",
       "      <th>4</th>\n",
       "      <td>33163</td>\n",
       "      <td>2019</td>\n",
       "      <td>3</td>\n",
       "      <td>1.0</td>\n",
       "      <td>0</td>\n",
       "      <td>0</td>\n",
       "      <td>1</td>\n",
       "      <td>32904</td>\n",
       "    </tr>\n",
       "    <tr>\n",
       "      <th>5</th>\n",
       "      <td>18421</td>\n",
       "      <td>2018</td>\n",
       "      <td>3</td>\n",
       "      <td>1.0</td>\n",
       "      <td>1</td>\n",
       "      <td>0</td>\n",
       "      <td>1</td>\n",
       "      <td>43901</td>\n",
       "    </tr>\n",
       "  </tbody>\n",
       "</table>\n",
       "</div>"
      ],
      "text/plain": [
       "   mileage  year  fuel_type  ownerCount  accidentCount  transmission  \\\n",
       "0    18386  2019          3         1.0              0             0   \n",
       "1    41829  2018          3         1.0              0             0   \n",
       "2    22667  2018          3         1.0              0             0   \n",
       "4    33163  2019          3         1.0              0             0   \n",
       "5    18421  2018          3         1.0              1             0   \n",
       "\n",
       "   drive_train  price  \n",
       "0            1  37906  \n",
       "1            1  31901  \n",
       "2            1  33906  \n",
       "4            1  32904  \n",
       "5            1  43901  "
      ]
     },
     "execution_count": 1004,
     "metadata": {},
     "output_type": "execute_result"
    }
   ],
   "source": [
    "df.head()"
   ]
  },
  {
   "cell_type": "markdown",
   "id": "079f7b15",
   "metadata": {},
   "source": [
    "### scaling the data"
   ]
  },
  {
   "cell_type": "code",
   "execution_count": 1005,
   "id": "6d55b387",
   "metadata": {
    "scrolled": false
   },
   "outputs": [],
   "source": [
    "trans = StandardScaler()"
   ]
  },
  {
   "cell_type": "markdown",
   "id": "6b339a2d",
   "metadata": {},
   "source": [
    "#### defining predictor variables and target variable"
   ]
  },
  {
   "cell_type": "code",
   "execution_count": 1006,
   "id": "b69ea725",
   "metadata": {},
   "outputs": [
    {
     "data": {
      "text/plain": [
       "Index(['mileage', 'year', 'fuel_type', 'ownerCount', 'accidentCount',\n",
       "       'transmission', 'drive_train', 'price'],\n",
       "      dtype='object')"
      ]
     },
     "execution_count": 1006,
     "metadata": {},
     "output_type": "execute_result"
    }
   ],
   "source": [
    "df.columns"
   ]
  },
  {
   "cell_type": "code",
   "execution_count": 1007,
   "id": "d58a7cac",
   "metadata": {},
   "outputs": [],
   "source": [
    "#Dependent variable is also referred as target variable and the independent variables are called the predictors.\n",
    "\n",
    "X = df[['mileage', 'year', 'fuel_type', 'ownerCount', 'accidentCount',\n",
    "       'transmission', 'drive_train',]]\n",
    "y = df['price']"
   ]
  },
  {
   "cell_type": "code",
   "execution_count": 1008,
   "id": "c55351ef",
   "metadata": {},
   "outputs": [],
   "source": [
    "#scaling predictor variable\n",
    "\n",
    "X = trans.fit_transform(X)\n",
    "X = pd.DataFrame(X)"
   ]
  },
  {
   "cell_type": "code",
   "execution_count": 1009,
   "id": "d7bdfd7f",
   "metadata": {
    "scrolled": true
   },
   "outputs": [],
   "source": [
    "# scaling target variable\n",
    "\n",
    "y = trans.fit_transform(y.values.reshape(-1,1))\n",
    "y = pd.DataFrame(y)"
   ]
  },
  {
   "cell_type": "markdown",
   "id": "515f8164",
   "metadata": {},
   "source": [
    "#### splitting data into train and test set"
   ]
  },
  {
   "cell_type": "code",
   "execution_count": 1010,
   "id": "f3fdf385",
   "metadata": {},
   "outputs": [],
   "source": [
    " X_train, X_test, y_train, y_test = train_test_split(X, y, test_size=0.30, random_state=42,shuffle=True)"
   ]
  },
  {
   "cell_type": "markdown",
   "id": "241dbf4d",
   "metadata": {},
   "source": [
    "#### instantiating our linear regression model and fitting our model to the data"
   ]
  },
  {
   "cell_type": "code",
   "execution_count": 1011,
   "id": "37cab10f",
   "metadata": {},
   "outputs": [],
   "source": [
    "lm = LinearRegression()"
   ]
  },
  {
   "cell_type": "code",
   "execution_count": 1012,
   "id": "993548a3",
   "metadata": {},
   "outputs": [
    {
     "data": {
      "text/plain": [
       "LinearRegression()"
      ]
     },
     "execution_count": 1012,
     "metadata": {},
     "output_type": "execute_result"
    }
   ],
   "source": [
    "lm.fit(X_train,y_train)"
   ]
  },
  {
   "cell_type": "markdown",
   "id": "4dc8713c",
   "metadata": {},
   "source": [
    "## 7.Evaluation"
   ]
  },
  {
   "cell_type": "code",
   "execution_count": 1013,
   "id": "3b51c03a",
   "metadata": {},
   "outputs": [
    {
     "name": "stdout",
     "output_type": "stream",
     "text": [
      "[0.00264564]\n"
     ]
    }
   ],
   "source": [
    "# print the intercept\n",
    "\n",
    "print(lm.intercept_)"
   ]
  },
  {
   "cell_type": "code",
   "execution_count": 1014,
   "id": "7c02d373",
   "metadata": {},
   "outputs": [],
   "source": [
    "#Let's grab predictions off our test set and see how well it did!\n",
    "\n",
    "predictions = lm.predict(X_test)"
   ]
  },
  {
   "cell_type": "code",
   "execution_count": 1015,
   "id": "08566858",
   "metadata": {},
   "outputs": [
    {
     "data": {
      "text/plain": [
       "<matplotlib.collections.PathCollection at 0x11767afad30>"
      ]
     },
     "execution_count": 1015,
     "metadata": {},
     "output_type": "execute_result"
    },
    {
     "data": {
      "image/png": "[encoded data removed]",
      "text/plain": [
       "<Figure size 432x288 with 1 Axes>"
      ]
     },
     "metadata": {
      "needs_background": "light"
     },
     "output_type": "display_data"
    }
   ],
   "source": [
    "#plotting actual values vs predicted values\n",
    "\n",
    "plt.scatter(y_test,predictions)"
   ]
  },
  {
   "cell_type": "markdown",
   "id": "a9494665",
   "metadata": {},
   "source": [
    "###  Regression Evaluation Metrics"
   ]
  },
  {
   "cell_type": "markdown",
   "id": "3f42b14e",
   "metadata": {},
   "source": [
    "\n",
    "Here are three common evaluation metrics for regression problems:\n",
    "\n",
    "**Mean Absolute Error** (MAE) is the mean of the absolute value of the errors:\n",
    "\n",
    "$$\\frac 1n\\sum_{i=1}^n|y_i-\\hat{y}_i|$$\n",
    "\n",
    "**Mean Squared Error** (MSE) is the mean of the squared errors:\n",
    "\n",
    "$$\\frac 1n\\sum_{i=1}^n(y_i-\\hat{y}_i)^2$$\n",
    "\n",
    "**Root Mean Squared Error** (RMSE) is the square root of the mean of the squared errors:\n",
    "\n",
    "$$\\sqrt{\\frac 1n\\sum_{i=1}^n(y_i-\\hat{y}_i)^2}$$\n",
    "\n",
    "Comparing these metrics:\n",
    "\n",
    "- **MAE** is the easiest to understand, because it's the average error.\n",
    "- **MSE** is more popular than MAE, because MSE \"punishes\" larger errors, which tends to be useful in the real world.\n",
    "- **RMSE** is even more popular than MSE, because RMSE is interpretable in the \"y\" units.\n",
    "\n",
    "All of these are **loss functions**, because we want to minimize them."
   ]
  },
  {
   "cell_type": "code",
   "execution_count": 1016,
   "id": "df45352a",
   "metadata": {
    "scrolled": true
   },
   "outputs": [
    {
     "name": "stdout",
     "output_type": "stream",
     "text": [
      "MAE: 0.6245805221092949\n",
      "MSE: 0.7018040009412688\n",
      "RMSE: 0.8377374295931087\n"
     ]
    }
   ],
   "source": [
    "print('MAE:', metrics.mean_absolute_error(y_test, predictions))\n",
    "print('MSE:', metrics.mean_squared_error(y_test, predictions))\n",
    "print('RMSE:', np.sqrt(metrics.mean_squared_error(y_test, predictions)))"
   ]
  },
  {
   "cell_type": "markdown",
   "id": "dba1b8bc",
   "metadata": {},
   "source": [
    "## 8.Deploying"
   ]
  },
  {
   "cell_type": "code",
   "execution_count": 1017,
   "id": "fb995ee8",
   "metadata": {},
   "outputs": [],
   "source": [
    "# saving model\n",
    "\n",
    "filename = 'finalized_model.sav'\n",
    "pickle.dump(lm,open(filename,'wb'))"
   ]
  },
  {
   "cell_type": "code",
   "execution_count": 1018,
   "id": "20c04ad4",
   "metadata": {},
   "outputs": [],
   "source": [
    "#Loading model\n",
    "\n",
    "loaded_model = pickle.load(open(filename, 'rb'))\n",
    "result = loaded_model.predict(X_test)"
   ]
  },
  {
   "cell_type": "code",
   "execution_count": 1019,
   "id": "6e1cc4f9",
   "metadata": {},
   "outputs": [
    {
     "data": {
      "text/plain": [
       "array([[ 0.48335045],\n",
       "       [-0.19387975],\n",
       "       [ 0.22869531],\n",
       "       ...,\n",
       "       [ 0.2907928 ],\n",
       "       [ 0.20888389],\n",
       "       [ 0.09734698]])"
      ]
     },
     "execution_count": 1019,
     "metadata": {},
     "output_type": "execute_result"
    }
   ],
   "source": [
    "result"
   ]
  },
  {
   "cell_type": "code",
   "execution_count": 1020,
   "id": "2d2e4081",
   "metadata": {},
   "outputs": [
    {
     "data": {
      "text/plain": [
       "array([[36444.58703539],\n",
       "       [28338.05768194],\n",
       "       [33396.33345204],\n",
       "       ...,\n",
       "       [34139.64819375],\n",
       "       [33159.18837069],\n",
       "       [31824.077683  ]])"
      ]
     },
     "execution_count": 1020,
     "metadata": {},
     "output_type": "execute_result"
    }
   ],
   "source": [
    "# inversing the standard scaler\n",
    "\n",
    "trans.inverse_transform(result.reshape(-1,1))"
   ]
  }
 ],
 "metadata": {
  "kernelspec": {
   "display_name": "Python 3 (ipykernel)",
   "language": "python",
   "name": "python3"
  },
  "language_info": {
   "codemirror_mode": {
    "name": "ipython",
    "version": 3
   },
   "file_extension": ".py",
   "mimetype": "text/x-python",
   "name": "python",
   "nbconvert_exporter": "python",
   "pygments_lexer": "ipython3",
   "version": "3.9.7"
  }
 },
 "nbformat": 4,
 "nbformat_minor": 5
}
